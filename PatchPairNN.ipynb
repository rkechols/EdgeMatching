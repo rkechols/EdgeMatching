{
 "cells": [
  {
   "cell_type": "code",
   "execution_count": null,
   "metadata": {
    "collapsed": true,
    "pycharm": {
     "name": "#%%\n"
    }
   },
   "outputs": [],
   "source": [
    "#imports\n",
    "import torch\n",
    "import numpy as np\n",
    "import random\n"
   ]
  },
  {
   "cell_type": "code",
   "execution_count": null,
   "outputs": [],
   "source": [
    "# constants\n",
    "PATCH_SIZE = 28\n"
   ],
   "metadata": {
    "collapsed": false,
    "pycharm": {
     "name": "#%%\n"
    }
   }
  },
  {
   "cell_type": "code",
   "execution_count": null,
   "outputs": [],
   "source": [
    "# see if we have a gpu\n",
    "device = torch.device(\"cuda:0\" if torch.cuda.is_available() else \"cpu\")\n",
    "print(device)\n"
   ],
   "metadata": {
    "collapsed": false,
    "pycharm": {
     "name": "#%%\n"
    }
   }
  },
  {
   "cell_type": "code",
   "execution_count": null,
   "outputs": [],
   "source": [
    "import matplotlib.pyplot as plt\n",
    "%matplotlib inline\n",
    "import numpy as np\n",
    "\n",
    "# function to show an image\n",
    "def show_image(image: np.ndarray):\n",
    "\tplt.imshow(image, vmin=0, vmax=255)\n",
    "\tplt.axis(\"off\")\n",
    "\tplt.show()\n"
   ],
   "metadata": {
    "collapsed": false,
    "pycharm": {
     "name": "#%%\n"
    }
   }
  },
  {
   "cell_type": "code",
   "execution_count": null,
   "outputs": [],
   "source": [
    "import cv2\n",
    "\n",
    "# load a test image and show it\n",
    "test_image_path = \"./TestImages/Strange.png\"\n",
    "test_image = cv2.imread(test_image_path)\n",
    "test_image = np.fliplr(test_image.reshape(-1,3)).reshape(test_image.shape)\n",
    "\n",
    "show_image(test_image)\n"
   ],
   "metadata": {
    "collapsed": false,
    "pycharm": {
     "name": "#%%\n"
    }
   }
  },
  {
   "cell_type": "code",
   "execution_count": null,
   "outputs": [],
   "source": [
    "# enum-like values to indicate how far the patch has been rotated counter clockwise\n",
    "ROTATION_0 = 0\n",
    "ROTATION_90 = 1\n",
    "ROTATION_180 = 2\n",
    "ROTATION_270 = 3\n",
    "\n",
    "NOT_A_PAIR = 16\n",
    "\n",
    "def combination_index_from_rotations(rotation1: int, rotation2: int) -> int:\n",
    "\treturn ((4 * rotation1) + rotation2) % 16\n",
    "\n",
    "def rotations_from_combination_index(combination_index: int) -> (int, int):\n",
    "\tif combination_index >= 16 or combination_index < 0:\n",
    "\t\treturn None, None\n",
    "\trotation1 = combination_index // 4\n",
    "\trotation2 = combination_index % 4\n",
    "\treturn rotation1, rotation2\n",
    "\n",
    "def show_combined_patches(data1: np.ndarray, data2: np.ndarray, combination_index):\n",
    "\tr1, r2 = rotations_from_combination_index(combination_index)\n",
    "\tif r1 is None or r2 is None:\n",
    "\t\tprint(\"invalid combination index; cannot be combined\")\n",
    "\t\treturn\n",
    "\tcombined = np.empty((data1.shape[0], data1.shape[1] + data2.shape[1], data1.shape[2]), dtype=data1.dtype)\n",
    "\tcombined[:, :data1.shape[1]] = np.rot90(data1, (4 - r1) % 4)\n",
    "\tcombined[:, data1.shape[1]:] = np.rot90(data2, (4 - r2) % 4)\n",
    "\tshow_image(combined)\n",
    "\n",
    "class Patch:\n",
    "\tdef __init__(self, data: np.ndarray, row: int, col: int):\n",
    "\t\tself.data = data\n",
    "\t\tself.row = row\n",
    "\t\tself.col = col\n",
    "\n",
    "\tdef random_rotation(self):\n",
    "\t\trotation_index = random.randrange(4)\n",
    "\t\tnew_data = np.rot90(self.data, rotation_index)\n",
    "\t\treturn Patch(new_data, self.row, self.col), rotation_index\n",
    "\n",
    "\tdef show(self):\n",
    "\t\tprint(\"row =\", self.row, \"| col =\", self.col)\n",
    "\t\tshow_image(self.data)\n",
    "\n",
    "def random_patch(image: np.ndarray, h: int, w: int) -> Patch:\n",
    "\t# pick a corner location\n",
    "\trow = random.randrange(image.shape[0] - h)\n",
    "\tcol = random.randrange(image.shape[1] - w)\n",
    "\t# make the patch\n",
    "\treturn Patch(image[row:row+h, col:col+w], row, col)\n",
    "\n",
    "BUFFER_SIZE = 7\n",
    "\n",
    "def make_pairs_of_patches(image: np.ndarray, total_pairs: int = 8, number_of_good: int = None) -> list:\n",
    "\tif number_of_good is None:\n",
    "\t\tnumber_of_good = random.randrange(total_pairs + 1)\n",
    "\tnumber_of_bad = total_pairs - number_of_good\n",
    "\th = image.shape[0]\n",
    "\tw = image.shape[1]\n",
    "\tif h < PATCH_SIZE or w < PATCH_SIZE:\n",
    "\t\tprint(\"cannot make patches from this image (%dx%d); minimum dimensions are %dx%d\" %\n",
    "\t\t      (h, w, PATCH_SIZE, PATCH_SIZE))\n",
    "\t\treturn list()\n",
    "\t# pick doubly long squares, chop them in half\n",
    "\tgood_pairs = list()\n",
    "\twhile len(good_pairs) < number_of_good:\n",
    "\t\tif bool(random.randrange(2)):  # pick vertical or horizontal\n",
    "\t\t\t# horizontal\n",
    "\t\t\tpair_patch = random_patch(image, PATCH_SIZE, 2 * PATCH_SIZE)\n",
    "\t\telse:\n",
    "\t\t\t# vertical\n",
    "\t\t\tpair_patch = random_patch(image, 2 * PATCH_SIZE, PATCH_SIZE)\n",
    "\t\t\tpair_patch.data = np.rot90(pair_patch.data)\n",
    "\t\tpatch1 = Patch(pair_patch.data[:, :PATCH_SIZE, :], pair_patch.row, pair_patch.col)\n",
    "\t\tpatch2 = Patch(pair_patch.data[:, PATCH_SIZE:, :], pair_patch.row, pair_patch.col + PATCH_SIZE)\n",
    "\t\tpatch1, patch1_rotation = patch1.random_rotation()\n",
    "\t\tpatch2, patch2_rotation = patch2.random_rotation()\n",
    "\t\tcombination_index = combination_index_from_rotations(patch1_rotation, patch2_rotation)\n",
    "\t\tgood_pairs.append(((patch1.data, patch2.data), combination_index))\n",
    "\t# pick random patches and make sure they don't actually line up\n",
    "\tbad_pairs = list()\n",
    "\twhile len(bad_pairs) < number_of_bad:\n",
    "\t\tpatch1 = random_patch(image, PATCH_SIZE, PATCH_SIZE)\n",
    "\t\tpatch2 = random_patch(image, PATCH_SIZE, PATCH_SIZE)\n",
    "\t\tr_gap = abs(patch1.row - patch2.row) - PATCH_SIZE\n",
    "\t\tc_gap = abs(patch1.col - patch2.col) - PATCH_SIZE\n",
    "\t\tif r_gap + c_gap > BUFFER_SIZE:\n",
    "\t\t\tpatch1 = patch1.random_rotation()[0]\n",
    "\t\t\tpatch2 = patch2.random_rotation()[0]\n",
    "\t\t\tbad_pairs.append(((patch1.data, patch2.data), NOT_A_PAIR))\n",
    "\tall_pairs = good_pairs + bad_pairs\n",
    "\trandom.shuffle(all_pairs)\n",
    "\treturn all_pairs\n",
    "\n",
    "test_pairs = make_pairs_of_patches(test_image, 20, 10)\n"
   ],
   "metadata": {
    "collapsed": false,
    "pycharm": {
     "name": "#%%\n"
    }
   }
  },
  {
   "cell_type": "code",
   "execution_count": null,
   "outputs": [],
   "source": [
    "# preview some data\n",
    "index_to_show = random.randrange(len(test_pairs))\n",
    "(pic1, pic2), combo_index = test_pairs[index_to_show]\n",
    "show_image(pic1)\n",
    "show_image(pic2)\n",
    "print(\"combo_index:\", combo_index)\n",
    "show_combined_patches(pic1, pic2, combo_index)\n"
   ],
   "metadata": {
    "collapsed": false,
    "pycharm": {
     "name": "#%%\n"
    }
   }
  },
  {
   "cell_type": "code",
   "execution_count": null,
   "outputs": [],
   "source": [
    "import torchvision\n",
    "from torch.utils.data import DataLoader\n",
    "import torchvision.transforms as transforms\n",
    "\n",
    "# get a bunch of images to use for training data\n",
    "transform = transforms.ToTensor()\n",
    "train_data = torchvision.datasets.STL10(root='./data', split=\"unlabeled\", download=True, transform=transform)\n",
    "train_loader = DataLoader(train_data, batch_size=4, shuffle=True, num_workers=2)\n",
    "test_data = torchvision.datasets.STL10(root='./data', split=\"test\", download=True, transform=transform)\n",
    "test_loader = DataLoader(test_data, batch_size=4, shuffle=False, num_workers=2)\n"
   ],
   "metadata": {
    "collapsed": false,
    "pycharm": {
     "name": "#%%\n"
    }
   }
  },
  {
   "cell_type": "code",
   "execution_count": null,
   "outputs": [],
   "source": [
    "# convert our data\n",
    "\n",
    "def patch_pair_to_tensor(patch1, patch2):\n",
    "\tpatch1 = torch.tensor(np.transpose(patch1.copy(), (2, 0, 1)), dtype=torch.float)\n",
    "\tpatch2 = torch.tensor(np.transpose(patch2.copy(), (2, 0, 1)), dtype=torch.float)\n",
    "\treturn torch.cat((patch1, patch2), 2)\n",
    "\n",
    "def batch_to_images(batch):\n",
    "\t# toss the labels\n",
    "\tbatch_tensor = batch[0]\n",
    "\tnp_images = [np.array(batch_tensor[x, :, :, :]) for x in range(batch_tensor.shape[0])]\n",
    "\treturn [np.transpose(im, (1, 2, 0)) for im in np_images]\n",
    "\n",
    "def index_to_hot(i: int, size: int):\n",
    "\ta = torch.zeros(size)\n",
    "\ta[i] = 0.0\n",
    "\treturn a\n",
    "\n",
    "def convert_loader(given_loader: DataLoader) -> list:\n",
    "\tinput_target_pairs = list()\n",
    "\tfor b in given_loader:\n",
    "\t\timages = batch_to_images(b)\n",
    "\t\tinputs = list()\n",
    "\t\ttargets = list()\n",
    "\t\tfor image in images:\n",
    "\t\t\tpairs = make_pairs_of_patches(image)\n",
    "\t\t\tfor patch_pair, num in pairs:\n",
    "\t\t\t\tpair_tensor = patch_pair_to_tensor(patch_pair[0], patch_pair[1])\n",
    "\t\t\t\tinputs.append(pair_tensor)\n",
    "\t\t\t\t# targets.append(index_to_hot(num, 17))\n",
    "\t\t\t\ttargets.append(num)\n",
    "\t\tnew_inputs = torch.stack(inputs)\n",
    "\t\tnew_targets = torch.tensor(targets)\n",
    "\t\tinput_target_pairs.append((new_inputs, new_targets))\n",
    "\treturn input_target_pairs\n",
    "\n",
    "train_formatted_batches = convert_loader(train_loader)\n",
    "print(len(train_formatted_batches))\n",
    "test_formatted_batches = convert_loader(test_loader)\n",
    "print(len(test_formatted_batches))\n"
   ],
   "metadata": {
    "collapsed": false,
    "pycharm": {
     "name": "#%%\n"
    }
   }
  },
  {
   "cell_type": "code",
   "execution_count": null,
   "outputs": [],
   "source": [
    "import torch.nn as nn\n",
    "import torch.nn.functional as f\n",
    "\n",
    "# make a network class\n",
    "\n",
    "class PatchPairNet(nn.Module):\n",
    "\tdef __init__(self):\n",
    "\t\tsuper(PatchPairNet, self).__init__()\n",
    "\t\tself.kernel_size = 3\n",
    "\t\tself.conv1 = nn.Conv2d(3, 6, self.kernel_size)\n",
    "\t\tself.pool = nn.MaxPool2d(2, 2)\n",
    "\t\tself.conv2 = nn.Conv2d(6, 16, self.kernel_size)\n",
    "\t\tself.fc1 = nn.Linear(16 * 5 * 5 * 2, 120)\n",
    "\t\tself.fc2 = nn.Linear(120, 84)\n",
    "\t\tself.fc3 = nn.Linear(84, 17)\n",
    "\n",
    "\tdef forward(self, image_pair):\n",
    "\t\t# first dimension is how many things are in the mini-batch\n",
    "\t\t# second dimension is channels\n",
    "\t\tx = image_pair[:, :, :, :PATCH_SIZE]\n",
    "\t\ty = image_pair[:, :, :, PATCH_SIZE:]\n",
    "\t\t# put both images through the same convolutions\n",
    "\t\tx = self.pool(f.relu(self.conv1(x)))\n",
    "\t\tx = self.pool(f.relu(self.conv2(x)))\n",
    "\t\tx = x.view(-1, 16 * 5 * 5)\n",
    "\t\ty = self.pool(f.relu(self.conv1(y)))\n",
    "\t\ty = self.pool(f.relu(self.conv2(y)))\n",
    "\t\ty = y.view(-1, 16 * 5 * 5)\n",
    "\n",
    "\t\txy = torch.cat((x, y), 1)\n",
    "\n",
    "\t\txy = f.relu(self.fc1(xy))\n",
    "\t\txy = f.relu(self.fc2(xy))\n",
    "\t\txy = self.fc3(xy)\n",
    "\t\treturn xy\n",
    "\n",
    "\n",
    "net = PatchPairNet()\n"
   ],
   "metadata": {
    "collapsed": false,
    "pycharm": {
     "name": "#%%\n"
    }
   }
  },
  {
   "cell_type": "code",
   "execution_count": null,
   "outputs": [],
   "source": [
    "# put a pair of images through the net to make sure forward() works\n",
    "\n",
    "test_combo = patch_pair_to_tensor(pic1, pic2)\n",
    "test_combo = test_combo[None, :, :, :]\n",
    "out = net(test_combo)\n",
    "print(out.shape)\n",
    "print(torch.argmax(out).item())\n"
   ],
   "metadata": {
    "collapsed": false,
    "pycharm": {
     "name": "#%%\n"
    }
   }
  },
  {
   "cell_type": "code",
   "execution_count": null,
   "outputs": [],
   "source": [
    "# loss function and optimizer\n",
    "import torch.optim as optim\n",
    "\n",
    "criterion = nn.CrossEntropyLoss()\n",
    "optimizer = optim.SGD(net.parameters(), lr=0.001, momentum=0.9)\n"
   ],
   "metadata": {
    "collapsed": false,
    "pycharm": {
     "name": "#%%\n"
    }
   }
  },
  {
   "cell_type": "code",
   "execution_count": null,
   "outputs": [],
   "source": [
    "import time\n",
    "\n",
    "SHUFFLE_EVERY_EPOCH = False\n",
    "SAVE_EVERY_EPOCH = True\n",
    "PATH = './patch_pair_net.pth'\n",
    "\n",
    "# train the network\n",
    "\n",
    "net.to(device)\n",
    "for epoch in range(20):  # loop over the dataset multiple times\n",
    "\tif SHUFFLE_EVERY_EPOCH:\n",
    "\t\t# re-shuffle the data\n",
    "\t\tprint(\"shuffling data...\")\n",
    "\t\ttime_start = time.time()\n",
    "\t\ttrain_loader = DataLoader(train_data, batch_size=4, shuffle=True, num_workers=2)\n",
    "\t\ttrain_formatted_batches = convert_loader(train_loader)\n",
    "\t\ttime_end = time.time()\n",
    "\t\tprint(f\"shuffled data in {time_end - time_start} seconds\")\n",
    "\n",
    "\tprint(\"starting epoch\", epoch + 1)\n",
    "\trunning_loss = 0.0\n",
    "\ttime_start = time.time()\n",
    "\tfor i, data in enumerate(train_formatted_batches):\n",
    "\t\t# get the inputs; data is a list of [inputs, labels]\n",
    "\t\tinputs, labels = data[0].to(device), data[1].to(device)\n",
    "\n",
    "\t\t# zero the parameter gradients\n",
    "\t\toptimizer.zero_grad()\n",
    "\n",
    "\t\t# forward + backward + optimize\n",
    "\t\toutputs = net(inputs)\n",
    "\t\tloss = criterion(outputs, labels.long())\n",
    "\t\tloss.backward()\n",
    "\t\toptimizer.step()\n",
    "\n",
    "\t\t# print statistics\n",
    "\t\trunning_loss += loss.item()\n",
    "\t\tif i % 2000 == 1999:\t# print every 2000 mini-batches\n",
    "\t\t\tprint('[%d, %5d] loss: %.3f' %\n",
    "\t\t\t\t  (epoch + 1, i + 1, running_loss / 2000))\n",
    "\t\t\trunning_loss = 0.0\n",
    "\ttime_end = time.time()\n",
    "\tif SAVE_EVERY_EPOCH:\n",
    "\t\ttorch.save(net.state_dict(), PATH)\n",
    "\tprint(f\"epoch trained in {time_end - time_start} seconds\")\n",
    "\n",
    "print('Finished Training')\n"
   ],
   "metadata": {
    "collapsed": false,
    "pycharm": {
     "name": "#%%\n"
    }
   }
  },
  {
   "cell_type": "code",
   "execution_count": null,
   "outputs": [],
   "source": [
    "# save net state\n",
    "torch.save(net.state_dict(), PATH)\n"
   ],
   "metadata": {
    "collapsed": false,
    "pycharm": {
     "name": "#%%\n"
    }
   }
  },
  {
   "cell_type": "code",
   "execution_count": null,
   "outputs": [],
   "source": [
    "# re-load the saved state\n",
    "\n",
    "net = PatchPairNet()\n",
    "net.load_state_dict(torch.load(PATH))\n",
    "net.to(device)\n"
   ],
   "metadata": {
    "collapsed": false,
    "pycharm": {
     "name": "#%%\n"
    }
   }
  },
  {
   "cell_type": "code",
   "execution_count": null,
   "outputs": [],
   "source": [
    "# test the overall accuracy\n",
    "\n",
    "correct = 0\n",
    "total = 0\n",
    "with torch.no_grad():\n",
    "\tfor data in test_formatted_batches:\n",
    "\t\timages, labels = data[0].to(device), data[1].to(device)\n",
    "\t\toutputs = net(images)\n",
    "\t\t_, predicted = torch.max(outputs.data, 1)\n",
    "\t\ttotal += labels.size(0)\n",
    "\t\tcorrect += (predicted == labels).sum().item()\n",
    "\n",
    "print('Accuracy of the network on the 10000 test images: %d %%' % (\n",
    "\t100 * correct / total))\n"
   ],
   "metadata": {
    "collapsed": false,
    "pycharm": {
     "name": "#%%\n"
    }
   }
  }
 ],
 "metadata": {
  "kernelspec": {
   "display_name": "Python 3",
   "language": "python",
   "name": "python3"
  },
  "language_info": {
   "codemirror_mode": {
    "name": "ipython",
    "version": 2
   },
   "file_extension": ".py",
   "mimetype": "text/x-python",
   "name": "python",
   "nbconvert_exporter": "python",
   "pygments_lexer": "ipython2",
   "version": "2.7.6"
  }
 },
 "nbformat": 4,
 "nbformat_minor": 0
}