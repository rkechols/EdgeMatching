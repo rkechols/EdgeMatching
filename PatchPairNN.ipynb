{
 "cells": [
  {
   "cell_type": "code",
   "execution_count": 2,
   "metadata": {
    "collapsed": true,
    "pycharm": {
     "name": "#%%\n"
    }
   },
   "outputs": [],
   "source": [
    "#imports\n",
    "import torch\n",
    "import numpy as np\n",
    "import random\n"
   ]
  },
  {
   "cell_type": "code",
   "execution_count": 4,
   "outputs": [],
   "source": [
    "# constants\n",
    "PATCH_HEIGHT = 28\n",
    "PATCH_WIDTH = 28\n"
   ],
   "metadata": {
    "collapsed": false,
    "pycharm": {
     "name": "#%%\n"
    }
   }
  },
  {
   "cell_type": "code",
   "execution_count": null,
   "outputs": [],
   "source": [
    "# see if we have a gpu\n",
    "device = torch.device(\"cuda:0\" if torch.cuda.is_available() else \"cpu\")\n",
    "print(device)\n"
   ],
   "metadata": {
    "collapsed": false,
    "pycharm": {
     "name": "#%%\n"
    }
   }
  },
  {
   "cell_type": "code",
   "execution_count": 6,
   "outputs": [
    {
     "name": "stdout",
     "output_type": "stream",
     "text": [
      "cannot make patches from this image (2x2); minimum dimensions are 28x28\n"
     ]
    }
   ],
   "source": [
    "class Patch:\n",
    "\tdef __init__(self, data: np.ndarray, row: int, col: int):\n",
    "\t\tself.data = data\n",
    "\t\tself.row = row\n",
    "\t\tself.col = col\n",
    "\n",
    "\tdef random_rotation_of_data(self) -> np.ndarray:\n",
    "\t\t# TODO\n",
    "\t\treturn self.data\n",
    "\n",
    "def random_patch(image: np.ndarray, h: int, w: int) -> Patch:\n",
    "\t# pick a corner location\n",
    "\trow = random.randrange(image.shape[0] - h)\n",
    "\tcol = random.randrange(image.shape[1] - w)\n",
    "\t# make the patch\n",
    "\treturn Patch(image[row:row+h, col:col+w], row, col)\n",
    "\n",
    "def make_pairs_of_patches(image: np.ndarray, number_of_good: int = 4, number_of_bad: int = 4):\n",
    "\th = image.shape[0]\n",
    "\tw = image.shape[1]\n",
    "\tif h < PATCH_HEIGHT or w < PATCH_WIDTH:\n",
    "\t\tprint(\"cannot make patches from this image (%dx%d); minimum dimensions are %dx%d\" %\n",
    "\t\t      (h, w, PATCH_HEIGHT, PATCH_WIDTH))\n",
    "\t\treturn None\n",
    "\tgood_pairs = list()\n",
    "\twhile len(good_pairs) < number_of_good:\n",
    "\t\tif bool(random.randrange(2)):  # pick vertical or horizontal\n",
    "\t\t\tpair_patch = random_patch(image, PATCH_HEIGHT, 2 * PATCH_WIDTH)\n",
    "\t\t\tpatch1 = Patch(pair_patch.data[:PATCH_HEIGHT], pair_patch.row, pair_patch.col)\n",
    "\t\t\tpatch2 = Patch(pair_patch.data[PATCH_HEIGHT:], pair_patch.row + PATCH_HEIGHT, pair_patch.col)\n",
    "\t\t\t#  TODO\n",
    "\t\telse:\n",
    "\t\t\tpair_patch = random_patch(image, 2 * PATCH_HEIGHT, PATCH_WIDTH)\n",
    "\t\t\t# TODO\n",
    "\t# pick random patches and make sure they don't actually line up\n",
    "\tbad_pairs = list()\n",
    "\twhile len(bad_pairs) < number_of_bad:\n",
    "\t\tpatch1 = random_patch(image, PATCH_HEIGHT, PATCH_WIDTH)\n",
    "\t\tpatch2 = random_patch(image, PATCH_HEIGHT, PATCH_WIDTH)\n",
    "\t\tr, c = patch1.row, patch1.col\n",
    "\t\tmatching_locations = [(r, c + PATCH_WIDTH), (r + PATCH_HEIGHT, c), (r, c - PATCH_WIDTH), (r - PATCH_HEIGHT, c)]\n",
    "\t\tif (patch2.row, patch2.col) not in matching_locations:\n",
    "\t\t\tbad_pairs.append((patch1, patch2))\n",
    "\treturn good_pairs, bad_pairs\n",
    "\n",
    "make_pairs_of_patches(np.zeros((2,2)))\n",
    "\n"
   ],
   "metadata": {
    "collapsed": false,
    "pycharm": {
     "name": "#%%\n"
    }
   }
  }
 ],
 "metadata": {
  "kernelspec": {
   "display_name": "Python 3",
   "language": "python",
   "name": "python3"
  },
  "language_info": {
   "codemirror_mode": {
    "name": "ipython",
    "version": 2
   },
   "file_extension": ".py",
   "mimetype": "text/x-python",
   "name": "python",
   "nbconvert_exporter": "python",
   "pygments_lexer": "ipython2",
   "version": "2.7.6"
  }
 },
 "nbformat": 4,
 "nbformat_minor": 0
}